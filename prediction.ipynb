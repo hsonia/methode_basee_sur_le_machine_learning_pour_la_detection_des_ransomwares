{
 "cells": [
  {
   "cell_type": "code",
   "execution_count": 6,
   "metadata": {},
   "outputs": [],
   "source": [
    "#importing all necessary libraries\n",
    "import pandas as pd\n",
    "from pandas import read_csv\n",
    "from sklearn.model_selection import train_test_split\n",
    "from matplotlib import pyplot\n",
    "import matplotlib.pyplot as plt\n",
    "from sklearn.linear_model import Perceptron\n",
    "from sklearn.ensemble import RandomForestClassifier, AdaBoostClassifier\n",
    "from sklearn.tree import DecisionTreeClassifier\n",
    "from xgboost import XGBClassifier\n",
    "from sklearn.metrics import accuracy_score, classification_report, confusion_matrix\n",
    "from sklearn.model_selection import StratifiedShuffleSplit, cross_val_score\n",
    "from sklearn.ensemble import RandomForestClassifier\n",
    "from pprint import pprint\n",
    "from sklearn.model_selection import StratifiedKFold, GridSearchCV\n",
    "import seaborn as sns\n",
    "import numpy as np\n",
    "from joblib import dump, load\n"
   ]
  },
  {
   "cell_type": "code",
   "execution_count": 11,
   "metadata": {},
   "outputs": [],
   "source": [
    "#load dataset\n",
    "df = pd.read_csv('/home/sonia/Bureau/ransomware_detection/CleanedRansomeWareDataset.csv')\n",
    "\n",
    "np.random.seed(3)\n",
    "array = df.values\n",
    "X = array[:,1:]\n",
    "y = array[:,0]\n",
    "\n",
    "#training\n",
    "X_train, X_test,y_train,y_test = train_test_split(X, y, test_size=0.27, stratify=y)"
   ]
  },
  {
   "cell_type": "code",
   "execution_count": 8,
   "metadata": {},
   "outputs": [
    {
     "name": "stdout",
     "output_type": "stream",
     "text": [
      "MLP: 0.117647\n",
      "RFC: 0.705882\n",
      "CART: 0.411765\n",
      "ABC: 0.352941\n",
      "XGBC: 0.647059\n",
      "the best model with the train_test_split : RFC\n",
      "0.7647058823529411\n",
      "[[1 0 0 0 0 0 0 0 0 0 0 0 0]\n",
      " [0 1 0 0 0 0 0 0 0 0 0 0 0]\n",
      " [0 0 0 0 0 0 0 0 2 0 0 0 0]\n",
      " [0 0 0 1 0 0 0 0 0 0 0 0 0]\n",
      " [0 0 0 0 1 0 0 0 0 0 0 0 0]\n",
      " [0 0 1 0 0 1 0 0 0 0 0 0 0]\n",
      " [0 0 0 0 0 0 1 0 0 0 0 0 0]\n",
      " [0 0 0 0 0 1 0 0 0 0 0 0 0]\n",
      " [0 0 0 0 0 0 0 0 3 0 0 0 0]\n",
      " [0 0 0 0 0 0 0 0 0 1 0 0 0]\n",
      " [0 0 0 0 0 0 0 0 0 0 1 0 0]\n",
      " [0 0 0 0 0 0 0 0 0 0 0 1 0]\n",
      " [0 0 0 0 0 0 0 0 0 0 0 0 1]]\n",
      "              precision    recall  f1-score   support\n",
      "\n",
      "  Cryptowall       1.00      1.00      1.00         1\n",
      "  Megacortex       1.00      1.00      1.00         1\n",
      "        Ryuk       0.00      0.00      0.00         2\n",
      "      Samsam       1.00      1.00      1.00         1\n",
      "     bitcoin       1.00      1.00      1.00         1\n",
      "      cerber       0.50      0.50      0.50         2\n",
      " cryptojoker       1.00      1.00      1.00         1\n",
      "   cryptomix       0.00      0.00      0.00         1\n",
      "      crysis       0.60      1.00      0.75         3\n",
      "      dharma       1.00      1.00      1.00         1\n",
      "       locky       1.00      1.00      1.00         1\n",
      "        raas       1.00      1.00      1.00         1\n",
      "  sodinokibi       1.00      1.00      1.00         1\n",
      "\n",
      "    accuracy                           0.76        17\n",
      "   macro avg       0.78      0.81      0.79        17\n",
      "weighted avg       0.69      0.76      0.72        17\n",
      "\n"
     ]
    },
    {
     "name": "stderr",
     "output_type": "stream",
     "text": [
      "/home/sonia/anaconda3/envs/ransomware_detect/lib/python3.7/site-packages/sklearn/metrics/_classification.py:1221: UndefinedMetricWarning: Precision and F-score are ill-defined and being set to 0.0 in labels with no predicted samples. Use `zero_division` parameter to control this behavior.\n",
      "  _warn_prf(average, modifier, msg_start, len(result))\n"
     ]
    },
    {
     "name": "stdout",
     "output_type": "stream",
     "text": [
      "MLP: 0.243697 (0.079721)\n",
      "RFC: 0.722689 (0.060598)\n",
      "CART: 0.630252 (0.060598)\n",
      "ABC: 0.361345 (0.037581)\n",
      "XGBC: 0.680672 (0.053148)\n"
     ]
    },
    {
     "data": {
      "image/png": "[encoded data removed]",
      "text/plain": [
       "<Figure size 432x288 with 1 Axes>"
      ]
     },
     "metadata": {
      "needs_background": "light"
     },
     "output_type": "display_data"
    },
    {
     "name": "stdout",
     "output_type": "stream",
     "text": [
      "Best model given the best accuracy is: RFC\n",
      "0.7647058823529411\n",
      "[[1 0 0 0 0 0 0 0 0 0 0 0 0]\n",
      " [0 1 0 0 0 0 0 0 0 0 0 0 0]\n",
      " [0 0 0 0 0 0 0 0 2 0 0 0 0]\n",
      " [0 0 0 1 0 0 0 0 0 0 0 0 0]\n",
      " [0 0 0 0 1 0 0 0 0 0 0 0 0]\n",
      " [0 0 1 0 0 1 0 0 0 0 0 0 0]\n",
      " [0 0 0 0 0 0 1 0 0 0 0 0 0]\n",
      " [0 0 0 0 0 1 0 0 0 0 0 0 0]\n",
      " [0 0 0 0 0 0 0 0 3 0 0 0 0]\n",
      " [0 0 0 0 0 0 0 0 0 1 0 0 0]\n",
      " [0 0 0 0 0 0 0 0 0 0 1 0 0]\n",
      " [0 0 0 0 0 0 0 0 0 0 0 1 0]\n",
      " [0 0 0 0 0 0 0 0 0 0 0 0 1]]\n",
      "              precision    recall  f1-score   support\n",
      "\n",
      "  Cryptowall       1.00      1.00      1.00         1\n",
      "  Megacortex       1.00      1.00      1.00         1\n",
      "        Ryuk       0.00      0.00      0.00         2\n",
      "      Samsam       1.00      1.00      1.00         1\n",
      "     bitcoin       1.00      1.00      1.00         1\n",
      "      cerber       0.50      0.50      0.50         2\n",
      " cryptojoker       1.00      1.00      1.00         1\n",
      "   cryptomix       0.00      0.00      0.00         1\n",
      "      crysis       0.60      1.00      0.75         3\n",
      "      dharma       1.00      1.00      1.00         1\n",
      "       locky       1.00      1.00      1.00         1\n",
      "        raas       1.00      1.00      1.00         1\n",
      "  sodinokibi       1.00      1.00      1.00         1\n",
      "\n",
      "    accuracy                           0.76        17\n",
      "   macro avg       0.78      0.81      0.79        17\n",
      "weighted avg       0.69      0.76      0.72        17\n",
      "\n"
     ]
    },
    {
     "name": "stderr",
     "output_type": "stream",
     "text": [
      "/home/sonia/anaconda3/envs/ransomware_detect/lib/python3.7/site-packages/sklearn/metrics/_classification.py:1221: UndefinedMetricWarning: Precision and F-score are ill-defined and being set to 0.0 in labels with no predicted samples. Use `zero_division` parameter to control this behavior.\n",
      "  _warn_prf(average, modifier, msg_start, len(result))\n"
     ]
    }
   ],
   "source": [
    "#comparison between models\n",
    "\n",
    "models = []\n",
    "models.append(('MLP', Perceptron()))\n",
    "models.append(('RFC', RandomForestClassifier()))\n",
    "models.append(('CART', DecisionTreeClassifier()))\n",
    "models.append(('ABC', AdaBoostClassifier()))\n",
    "models.append(('XGBC', XGBClassifier()))\n",
    "\n",
    "maxim = 0\n",
    "best_model = []\n",
    "\n",
    "for name, clf in models:\n",
    "    clf.fit(X_train, y_train)\n",
    "    prediction = clf.predict(X_test)\n",
    "    accuracy = accuracy_score(y_test, prediction)\n",
    "    print('%s: %f' % (name, accuracy))    \n",
    "    if(accuracy > maxim):\n",
    "        maxim = accuracy\n",
    "        best_model.append((name, clf))\n",
    "\n",
    "print('the best model with the train_test_split :', best_model[-1][0])\n",
    "# Selection des algos\n",
    "model = best_model[-1][1]\n",
    "model.fit(X_train, y_train)\n",
    "\n",
    "# Predictions\n",
    "predictions = model.predict(X_test)\n",
    "\n",
    "print(accuracy_score(y_test, predictions))\n",
    "print(confusion_matrix(y_test, predictions))\n",
    "print(classification_report(y_test, predictions))\n",
    "\n",
    "# comparing using cross_validate\n",
    "maxim = 0\n",
    "results = []\n",
    "names = []\n",
    "best_model = []\n",
    "\n",
    "for name, model in models:\n",
    "    kfold = StratifiedShuffleSplit(n_splits=7, test_size=0.27, random_state=3)\n",
    "    cv_results = cross_val_score(model,X,y,cv=kfold,scoring='accuracy')\n",
    "    results.append(cv_results)\n",
    "    names.append(name)\n",
    "    me = cv_results.mean()\n",
    "    print('%s: %f (%f)' % (name, cv_results.mean(), cv_results.std()))\n",
    "    if(me > maxim):\n",
    "        maxim = me\n",
    "        best_model.append((name, model))\n",
    "\n",
    "pyplot.boxplot(results, labels=names)\n",
    "pyplot.title('Algorithm Comparison')\n",
    "pyplot.show()\n",
    "\n",
    "print('Best model given the best accuracy is: '+best_model[-1][0])\n",
    "# Selection des algos\n",
    "model = best_model[-1][1]\n",
    "model.fit(X_train, y_train)\n",
    "\n",
    "# Predictions\n",
    "predictions = model.predict(X_test)\n",
    "\n",
    "print(accuracy_score(y_test, predictions))\n",
    "print(confusion_matrix(y_test, predictions))\n",
    "print(classification_report(y_test, predictions))"
   ]
  },
  {
   "cell_type": "code",
   "execution_count": 9,
   "metadata": {},
   "outputs": [
    {
     "name": "stdout",
     "output_type": "stream",
     "text": [
      "Parameters in use:\n",
      "\n",
      "{'bootstrap': True,\n",
      " 'ccp_alpha': 0.0,\n",
      " 'class_weight': None,\n",
      " 'criterion': 'gini',\n",
      " 'max_depth': None,\n",
      " 'max_features': 'auto',\n",
      " 'max_leaf_nodes': None,\n",
      " 'max_samples': None,\n",
      " 'min_impurity_decrease': 0.0,\n",
      " 'min_impurity_split': None,\n",
      " 'min_samples_leaf': 1,\n",
      " 'min_samples_split': 2,\n",
      " 'min_weight_fraction_leaf': 0.0,\n",
      " 'n_estimators': 100,\n",
      " 'n_jobs': None,\n",
      " 'oob_score': False,\n",
      " 'random_state': None,\n",
      " 'verbose': 0,\n",
      " 'warm_start': False}\n"
     ]
    }
   ],
   "source": [
    "model = RandomForestClassifier()\n",
    "\n",
    "print('Parameters in use:\\n')\n",
    "pprint(model.get_params())"
   ]
  },
  {
   "cell_type": "code",
   "execution_count": 10,
   "metadata": {},
   "outputs": [
    {
     "name": "stderr",
     "output_type": "stream",
     "text": [
      "/home/sonia/anaconda3/envs/ransomware_detect/lib/python3.7/site-packages/sklearn/model_selection/_split.py:672: UserWarning: The least populated class in y has only 1 members, which is less than n_splits=3.\n",
      "  % (min_groups, self.n_splits)), UserWarning)\n",
      "[Parallel(n_jobs=-1)]: Using backend ThreadingBackend with 2 concurrent workers.\n",
      "[Parallel(n_jobs=-1)]: Done  46 tasks      | elapsed:    0.1s\n",
      "[Parallel(n_jobs=-1)]: Done 100 out of 100 | elapsed:    0.3s finished\n",
      "[Parallel(n_jobs=2)]: Using backend ThreadingBackend with 2 concurrent workers.\n",
      "[Parallel(n_jobs=2)]: Done  46 tasks      | elapsed:    0.0s\n",
      "[Parallel(n_jobs=2)]: Done 100 out of 100 | elapsed:    0.0s finished\n"
     ]
    },
    {
     "name": "stdout",
     "output_type": "stream",
     "text": [
      "Best estimator is: RandomForestClassifier(max_depth=6, min_samples_split=3, n_jobs=-1,\n",
      "                       oob_score=True, verbose=1)\n",
      "Best parameters are: {'max_depth': 6, 'max_features': 'auto', 'min_samples_leaf': 1, 'min_samples_split': 3, 'n_estimators': 100, 'n_jobs': -1, 'oob_score': True, 'verbose': 1}\n",
      "Best score is: 0.6507936507936508\n",
      "0.7058823529411765\n",
      "              precision    recall  f1-score   support\n",
      "\n",
      "  Cryptowall       1.00      1.00      1.00         1\n",
      "  Megacortex       1.00      1.00      1.00         1\n",
      "        Ryuk       0.00      0.00      0.00         2\n",
      "      Samsam       0.50      1.00      0.67         1\n",
      "     bitcoin       1.00      1.00      1.00         1\n",
      "      cerber       0.50      0.50      0.50         2\n",
      " cryptojoker       0.00      0.00      0.00         1\n",
      "   cryptomix       0.00      0.00      0.00         1\n",
      "      crysis       0.60      1.00      0.75         3\n",
      "      dharma       1.00      1.00      1.00         1\n",
      "       locky       1.00      1.00      1.00         1\n",
      "        raas       1.00      1.00      1.00         1\n",
      "  sodinokibi       1.00      1.00      1.00         1\n",
      "\n",
      "    accuracy                           0.71        17\n",
      "   macro avg       0.66      0.73      0.69        17\n",
      "weighted avg       0.61      0.71      0.64        17\n",
      "\n"
     ]
    },
    {
     "name": "stderr",
     "output_type": "stream",
     "text": [
      "/home/sonia/anaconda3/envs/ransomware_detect/lib/python3.7/site-packages/sklearn/metrics/_classification.py:1221: UndefinedMetricWarning: Precision and F-score are ill-defined and being set to 0.0 in labels with no predicted samples. Use `zero_division` parameter to control this behavior.\n",
      "  _warn_prf(average, modifier, msg_start, len(result))\n"
     ]
    },
    {
     "data": {
      "image/png": "[encoded data removed]",
      "text/plain": [
       "<Figure size 432x288 with 2 Axes>"
      ]
     },
     "metadata": {
      "needs_background": "light"
     },
     "output_type": "display_data"
    }
   ],
   "source": [
    "np.random.seed(3)\n",
    "\n",
    "param_dist = {\n",
    "    'max_depth': [ 6, 7, 8, 10],\n",
    "    'max_features': ['auto'],\n",
    "    'min_samples_leaf': [ 1, 2],\n",
    "    'min_samples_split': [2, 3],\n",
    "    'n_estimators': [ 20, 100, 200, 300, 400],\n",
    "    'n_jobs': [-1],\n",
    "    'oob_score': [True],\n",
    "    'verbose': [1]\n",
    "}\n",
    "\n",
    "\n",
    "skf = StratifiedKFold(n_splits=3, shuffle = True)\n",
    "clf = GridSearchCV(RandomForestClassifier(), param_dist, n_jobs=-1, cv=skf.split(X_train,y_train), refit=True)\n",
    "clf.fit(X_train, y_train)\n",
    "\n",
    "print(\"Best estimator is: {}\".format(clf.best_estimator_))\n",
    "print(\"Best parameters are: {}\".format(clf.best_params_))\n",
    "print(\"Best score is: {}\".format(clf.best_score_))\n",
    "\n",
    "pred = clf.best_estimator_.predict(X_test)\n",
    "print(accuracy_score(y_test,pred))\n",
    "print(classification_report(y_test, pred))\n",
    "\n",
    "sns.heatmap(confusion_matrix(y_test,pred))\n",
    "plt.show()"
   ]
  },
  {
   "cell_type": "code",
   "execution_count": null,
   "metadata": {},
   "outputs": [],
   "source": [
    "#max_depth\n",
    "param_range=[i for i in range(1, 40)]\n",
    "\n",
    "train_scores, test_scores = validation_curve(RandomForestClassifier(n_estimators= 200), X = X_train, y = y_train, param_name = 'max_depth', param_range = param_range, cv = 3, scoring=\"accuracy\", n_jobs=-1)\n",
    "\n",
    "train_mean = np.mean(train_scores, axis=1)\n",
    "test_scores = np.mean(test_scores, axis=1)\n",
    "\n",
    "plt.plot(param_range, train_mean, label=\"Training score\", color=\"green\")\n",
    "plt.plot(param_range, test_mean, label=\"Cross-validation score\", color=\"blue\")\n",
    "\n",
    "plt.title(\"Validation Curve With Random Forest\")\n",
    "plt.xlabel(\" the max depth of the tree\")\n",
    "plt.ylabel(\"Accuracy Score\")\n",
    "plt.tight_layout()\n",
    "plt.legend(loc=\"best\")\n",
    "plt.show()"
   ]
  },
  {
   "cell_type": "code",
   "execution_count": null,
   "metadata": {},
   "outputs": [],
   "source": [
    "#min_samples_leaf\n",
    "param_range=[1, 2, 3, 4, 5, 6, 7, 8]\n",
    "train_scores, test_scores = validation_curve(RandomForestClassifier(n_estimators = 200, max_depth=8, min_samples_split=3), X = X_train, y = y_train, param_name = 'min_samples_leaf', param_range = param_range, cv = 3, scoring=\"accuracy\", n_jobs=-1)\n",
    "\n",
    "train_mean = np.mean(train_scores, axis=1)\n",
    "test_mean = np.mean(test_scores, axis=1)\n",
    "\n",
    "plt.plot(param_range, train_mean, label=\"Training score\", color=\"green\")\n",
    "plt.plot(param_range, test_mean, label=\"Cross-validation score\", color=\"blue\")\n",
    "\n",
    "plt.title(\"Validation Curve With Random Forest\")\n",
    "plt.xlabel(\" min_samples_leaf\")\n",
    "plt.ylabel(\"Accuracy Score\")\n",
    "plt.tight_layout()\n",
    "plt.legend(loc=\"best\")\n",
    "plt.show()"
   ]
  },
  {
   "cell_type": "code",
   "execution_count": null,
   "metadata": {},
   "outputs": [],
   "source": [
    "#min_samples_split\n",
    "param_range=[ 1, 2, 3, 4, 5, 6, 7, 8]\n",
    "\n",
    "train_scores, test_scores = validation_curve(RandomForestClassifier(n_estimators = 200, max_depth=8), X = X_train, y = y_train, param_name = 'min_samples_split', param_range = param_range, cv = 3, scoring=\"accuracy\", n_jobs=-1)\n",
    "\n",
    "train_mean = np.mean(train_scores, axis=1)\n",
    "test_mean = np.mean(test_scores, axis=1)\n",
    "\n",
    "plt.plot(param_range, train_mean, label=\"Training score\", color=\"green\")\n",
    "plt.plot(param_range, test_mean, label=\"Cross-validation score\", color=\"blue\")\n",
    "\n",
    "plt.title(\"Validation Curve With Random Forest\")\n",
    "plt.xlabel(\" min_samples_split\")\n",
    "plt.ylabel(\"Accuracy Score\")\n",
    "plt.tight_layout()\n",
    "plt.legend(loc=\"best\")\n",
    "plt.show()\n"
   ]
  },
  {
   "cell_type": "code",
   "execution_count": null,
   "metadata": {},
   "outputs": [],
   "source": [
    "#n_estimators\n",
    "param_range=[1, 10, 20, 100, 150, 200, 300, 350, 500]\n",
    "\n",
    "train_scores, test_scores = validation_curve(RandomForestClassifier(), X = X_train, y = y_train, param_name = 'n_estimators', param_range = param_range, cv = 3, scoring=\"accuracy\", n_jobs=-1)\n",
    "\n",
    "train_mean = np.mean(train_scores, axis=1)\n",
    "test_mean = np.mean(test_scores, axis=1)\n",
    "\n",
    "plt.plot(param_range, train_mean, label=\"Training score\", color=\"green\")\n",
    "plt.plot(param_range, test_mean, label=\"Cross-validation score\", color=\"blue\")\n",
    "\n",
    "plt.title(\"Validation Curve With Random Forest\")\n",
    "plt.xlabel(\"Number Of Trees\")\n",
    "plt.ylabel(\"Accuracy Score\")\n",
    "plt.tight_layout()\n",
    "plt.legend(loc=\"best\")\n",
    "plt.show()"
   ]
  },
  {
   "cell_type": "code",
   "execution_count": null,
   "metadata": {},
   "outputs": [],
   "source": [
    "#max_features\n",
    "param_range=[0, 10, 20, 30, 40, 50, 60, 70, 80, 90, 100, 110, 120, 130]\n",
    "#param_range=[i for i in range (1, 131)]\n",
    "\n",
    "train_scores, test_scores = validation_curve(RandomForestClassifier(n_estimators = 200, max_depth=8, min_samples_split=3, min_samples_leaf=1), X = X_train, y = y_train, param_name = 'max_features', param_range = param_range, cv = 3, scoring=\"accuracy\", n_jobs=-1)\n",
    "\n",
    "train_mean = np.mean(train_scores, axis=1)\n",
    "test_mean = np.mean(test_scores, axis=1)\n",
    "\n",
    "plt.plot(param_range, train_mean, label=\"Training score\", color=\"green\")\n",
    "plt.plot(param_range, test_mean, label=\"Cross-validation score\", color=\"blue\")\n",
    "\n",
    "plt.title(\"Validation Curve With Random Forest\")\n",
    "plt.xlabel(\" max_features\")\n",
    "plt.ylabel(\"Accuracy Score\")\n",
    "plt.tight_layout()\n",
    "plt.legend(loc=\"best\")\n",
    "plt.show()"
   ]
  },
  {
   "cell_type": "code",
   "execution_count": null,
   "metadata": {},
   "outputs": [],
   "source": [
    "clf_grid = RandomForestClassifier(max_depth=10, max_features='auto', min_samples_leaf=1, min_samples_split=2, n_estimators=20, n_jobs=-1, oob_score=True, verbose=1)\n",
    "clf_curv = RandomForestClassifier(max_depth=8, max_features='auto', min_samples_leaf=1, min_samples_split=3, n_estimators=200, n_jobs=-1, oob_score=True, verbose=1)\n",
    "\n",
    "clf_grid.fit(X_train, y_train)\n",
    "clf_curv.fit(X_train, y_train)\n",
    "\n",
    "prediG = clf_grid.predict(X_test)\n",
    "prediC = clf_curv.predict(X_test)\n",
    "\n",
    "print('accuracy of: '):\n",
    "print('the model tunned with grid_search: ', accuracy_score(y_test,prediG))\n",
    "print('the model tunned with validation_curve: ', accuracy_score(y_test,prediC))\n",
    "\n",
    "if(prediG > prediC):\n",
    "    model = clf_grid\n",
    "else:\n",
    "    model = clf_curv\n",
    "print('the selected model is: ')\n",
    "print(model)"
   ]
  },
  {
   "cell_type": "code",
   "execution_count": null,
   "metadata": {},
   "outputs": [],
   "source": [
    "#saving the model\n",
    "from joblib import dump\n",
    "model.fit(X, y)\n",
    "dump(model,\"ransomwarePredict.joblib\")"
   ]
  },
  {
   "cell_type": "code",
   "execution_count": null,
   "metadata": {},
   "outputs": [],
   "source": [
    "#loading the model\n",
    "model = load('ransomwarePredict.joblib')\n",
    "\n",
    "pr = pd.read_csv('/home/sonia/Bureau/ransomware_detection/predict.csv')\n",
    "X = pr.drop('Family', axis = 1)\n",
    "y = pr.Family\n",
    "\n",
    "yPred = model.predict(X)\n",
    "print(yPred)\n",
    "print(accuracy_score(y,yPred))"
   ]
  },
  {
   "cell_type": "code",
   "execution_count": null,
   "metadata": {},
   "outputs": [],
   "source": []
  }
 ],
 "metadata": {
  "kernelspec": {
   "display_name": "Python 3",
   "language": "python",
   "name": "python3"
  },
  "language_info": {
   "codemirror_mode": {
    "name": "ipython",
    "version": 3
   },
   "file_extension": ".py",
   "mimetype": "text/x-python",
   "name": "python",
   "nbconvert_exporter": "python",
   "pygments_lexer": "ipython3",
   "version": "3.7.7"
  }
 },
 "nbformat": 4,
 "nbformat_minor": 4
}
