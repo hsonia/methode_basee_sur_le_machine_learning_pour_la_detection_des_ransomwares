{
 "cells": [
  {
   "cell_type": "code",
   "execution_count": 1,
   "metadata": {},
   "outputs": [
    {
     "name": "stdout",
     "output_type": "stream",
     "text": [
      "MLP: 0.133333\n",
      "RFC: 0.866667\n",
      "CART: 0.733333\n",
      "BGC: 0.866667\n",
      "ABC: 0.400000\n",
      "XGBC: 0.800000\n",
      "XGBRFC: 0.800000\n",
      "the best model with the train_test_split : RFC\n",
      "0.8666666666666667\n",
      "[[1 0 0 0 0 0 0 0 0 0 0 0]\n",
      " [0 1 0 0 0 0 0 0 0 0 0 0]\n",
      " [0 0 1 0 0 0 0 0 0 0 0 0]\n",
      " [0 0 0 1 0 0 0 0 0 0 0 0]\n",
      " [0 0 0 0 1 0 0 0 0 0 0 0]\n",
      " [0 0 2 0 0 0 0 0 0 0 0 0]\n",
      " [0 0 0 0 0 0 1 0 0 0 0 0]\n",
      " [0 0 0 0 0 0 0 3 0 0 0 0]\n",
      " [0 0 0 0 0 0 0 0 1 0 0 0]\n",
      " [0 0 0 0 0 0 0 0 0 1 0 0]\n",
      " [0 0 0 0 0 0 0 0 0 0 1 0]\n",
      " [0 0 0 0 0 0 0 0 0 0 0 1]]\n",
      "              precision    recall  f1-score   support\n",
      "\n",
      "  Cryptowall       1.00      1.00      1.00         1\n",
      "  Megacortex       1.00      1.00      1.00         1\n",
      "        Ryuk       0.33      1.00      0.50         1\n",
      "      Samsam       1.00      1.00      1.00         1\n",
      "     bitcoin       1.00      1.00      1.00         1\n",
      "      cerber       0.00      0.00      0.00         2\n",
      " cryptojoker       1.00      1.00      1.00         1\n",
      "      crysis       1.00      1.00      1.00         3\n",
      "      dharma       1.00      1.00      1.00         1\n",
      "       locky       1.00      1.00      1.00         1\n",
      "        raas       1.00      1.00      1.00         1\n",
      "  sodinokibi       1.00      1.00      1.00         1\n",
      "\n",
      "    accuracy                           0.87        15\n",
      "   macro avg       0.86      0.92      0.88        15\n",
      "weighted avg       0.82      0.87      0.83        15\n",
      "\n"
     ]
    },
    {
     "name": "stderr",
     "output_type": "stream",
     "text": [
      "/home/sonia/anaconda3/envs/ransomware_detect/lib/python3.7/site-packages/sklearn/metrics/_classification.py:1221: UndefinedMetricWarning: Precision and F-score are ill-defined and being set to 0.0 in labels with no predicted samples. Use `zero_division` parameter to control this behavior.\n",
      "  _warn_prf(average, modifier, msg_start, len(result))\n"
     ]
    },
    {
     "name": "stdout",
     "output_type": "stream",
     "text": [
      "MLP: 0.243697 (0.079721)\n",
      "RFC: 0.714286 (0.049000)\n",
      "CART: 0.638655 (0.066168)\n",
      "BGC: 0.655462 (0.073259)\n",
      "ABC: 0.369748 (0.041168)\n",
      "XGBC: 0.680672 (0.053148)\n",
      "XGBRFC: 0.680672 (0.053148)\n",
      "Best model given the best accuracy is: RFC\n",
      "0.8666666666666667\n",
      "[[1 0 0 0 0 0 0 0 0 0 0 0]\n",
      " [0 1 0 0 0 0 0 0 0 0 0 0]\n",
      " [0 0 1 0 0 0 0 0 0 0 0 0]\n",
      " [0 0 0 1 0 0 0 0 0 0 0 0]\n",
      " [0 0 0 0 1 0 0 0 0 0 0 0]\n",
      " [0 0 1 0 0 1 0 0 0 0 0 0]\n",
      " [0 0 0 1 0 0 0 0 0 0 0 0]\n",
      " [0 0 0 0 0 0 0 3 0 0 0 0]\n",
      " [0 0 0 0 0 0 0 0 1 0 0 0]\n",
      " [0 0 0 0 0 0 0 0 0 1 0 0]\n",
      " [0 0 0 0 0 0 0 0 0 0 1 0]\n",
      " [0 0 0 0 0 0 0 0 0 0 0 1]]\n",
      "              precision    recall  f1-score   support\n",
      "\n",
      "  Cryptowall       1.00      1.00      1.00         1\n",
      "  Megacortex       1.00      1.00      1.00         1\n",
      "        Ryuk       0.50      1.00      0.67         1\n",
      "      Samsam       0.50      1.00      0.67         1\n",
      "     bitcoin       1.00      1.00      1.00         1\n",
      "      cerber       1.00      0.50      0.67         2\n",
      " cryptojoker       0.00      0.00      0.00         1\n",
      "      crysis       1.00      1.00      1.00         3\n",
      "      dharma       1.00      1.00      1.00         1\n",
      "       locky       1.00      1.00      1.00         1\n",
      "        raas       1.00      1.00      1.00         1\n",
      "  sodinokibi       1.00      1.00      1.00         1\n",
      "\n",
      "    accuracy                           0.87        15\n",
      "   macro avg       0.83      0.88      0.83        15\n",
      "weighted avg       0.87      0.87      0.84        15\n",
      "\n"
     ]
    },
    {
     "name": "stderr",
     "output_type": "stream",
     "text": [
      "/home/sonia/anaconda3/envs/ransomware_detect/lib/python3.7/site-packages/sklearn/metrics/_classification.py:1221: UndefinedMetricWarning: Precision and F-score are ill-defined and being set to 0.0 in labels with no predicted samples. Use `zero_division` parameter to control this behavior.\n",
      "  _warn_prf(average, modifier, msg_start, len(result))\n"
     ]
    }
   ],
   "source": [
    "import pandas as pd\n",
    "import numpy as np\n",
    "df = pd.read_csv('/home/sonia/Bureau/ransomware_detection/personalizedCleanedRansomwareDetection.csv')\n",
    "\n",
    "X = df.drop('Family', axis=1)\n",
    "y = df.Family\n",
    "#print(y)\n",
    "\n",
    "np.random.seed(3)\n",
    "\n",
    "from sklearn.model_selection import train_test_split, cross_val_score, StratifiedShuffleSplit\n",
    "X_train, X_test, y_train, y_test = train_test_split(X, y, test_size=0.25, stratify=y)\n",
    "\n",
    "from sklearn.tree import DecisionTreeClassifier\n",
    "from sklearn.ensemble import RandomForestClassifier,BaggingClassifier,AdaBoostClassifier\n",
    "from sklearn.linear_model import Perceptron\n",
    "from xgboost import XGBClassifier,XGBRFClassifier\n",
    "\n",
    "from sklearn.metrics import accuracy_score,classification_report,confusion_matrix\n",
    "\n",
    "models = []\n",
    "\n",
    "models.append(('MLP', Perceptron()))\n",
    "models.append(('RFC', RandomForestClassifier()))\n",
    "models.append(('CART', DecisionTreeClassifier()))\n",
    "models.append(('BGC', BaggingClassifier()))\n",
    "models.append(('ABC', AdaBoostClassifier()))\n",
    "models.append(('XGBC', XGBClassifier()))\n",
    "models.append(('XGBRFC', XGBClassifier()))\n",
    "\n",
    "\n",
    "maxim = 0\n",
    "best_model = []\n",
    "\n",
    "for name, clf in models:\n",
    "    clf.fit(X_train, y_train)\n",
    "    prediction = clf.predict(X_test)\n",
    "    accuracy = accuracy_score(y_test, prediction)\n",
    "    print('%s: %f' % (name, accuracy))\n",
    "    if(accuracy > maxim):\n",
    "        maxim = accuracy\n",
    "        best_model.append((name, clf))\n",
    "\n",
    "print('the best model with the train_test_split :', best_model[-1][0])\n",
    "# Selection des algos\n",
    "model = best_model[-1][1]\n",
    "model.fit(X_train, y_train)\n",
    "\n",
    "# Predictions\n",
    "predictions = model.predict(X_test)\n",
    "\n",
    "print(accuracy_score(y_test, predictions))\n",
    "print(confusion_matrix(y_test, predictions))\n",
    "print(classification_report(y_test, predictions))\n",
    "\n",
    "# evaluation des algos\n",
    "maxim = 0\n",
    "results = []\n",
    "names = []\n",
    "best_model = []\n",
    "\n",
    "for name, model in models:\n",
    "    kfold = StratifiedShuffleSplit(n_splits=7, test_size=0.27, random_state=3)\n",
    "    cv_results = cross_val_score(model,X,y,cv=kfold,scoring='accuracy')\n",
    "    results.append(cv_results)\n",
    "    names.append(name)\n",
    "    me = cv_results.mean()\n",
    "    print('%s: %f (%f)' % (name, cv_results.mean(), cv_results.std()))\n",
    "    if(me > maxim):\n",
    "        maxim = me\n",
    "        best_model.append((name, model))\n",
    "\"\"\"\n",
    "pyplot.boxplot(results, labels=names)\n",
    "pyplot.title('Algorithm Comparison')\n",
    "pyplot.show()\n",
    "\"\"\"\n",
    "print('Best model given the best accuracy is: '+best_model[-1][0])\n",
    "# Selection des algos\n",
    "model = best_model[-1][1]\n",
    "model.fit(X_train, y_train)\n",
    "\n",
    "# Predictions\n",
    "predictions = model.predict(X_test)\n",
    "\n",
    "print(accuracy_score(y_test, predictions))\n",
    "print(confusion_matrix(y_test, predictions))\n",
    "print(classification_report(y_test, predictions))"
   ]
  },
  {
   "cell_type": "code",
   "execution_count": 20,
   "metadata": {},
   "outputs": [
    {
     "name": "stdout",
     "output_type": "stream",
     "text": [
      "Parameters in use:\n",
      "\n",
      "{'bootstrap': True,\n",
      " 'ccp_alpha': 0.0,\n",
      " 'class_weight': None,\n",
      " 'criterion': 'gini',\n",
      " 'max_depth': None,\n",
      " 'max_features': 'auto',\n",
      " 'max_leaf_nodes': None,\n",
      " 'max_samples': None,\n",
      " 'min_impurity_decrease': 0.0,\n",
      " 'min_impurity_split': None,\n",
      " 'min_samples_leaf': 1,\n",
      " 'min_samples_split': 2,\n",
      " 'min_weight_fraction_leaf': 0.0,\n",
      " 'n_estimators': 100,\n",
      " 'n_jobs': None,\n",
      " 'oob_score': False,\n",
      " 'random_state': None,\n",
      " 'verbose': 0,\n",
      " 'warm_start': False}\n"
     ]
    },
    {
     "name": "stderr",
     "output_type": "stream",
     "text": [
      "/home/sonia/anaconda3/envs/ransomware_detect/lib/python3.7/site-packages/sklearn/model_selection/_split.py:672: UserWarning: The least populated class in y has only 2 members, which is less than n_splits=3.\n",
      "  % (min_groups, self.n_splits)), UserWarning)\n",
      "[Parallel(n_jobs=-1)]: Using backend ThreadingBackend with 2 concurrent workers.\n",
      "[Parallel(n_jobs=-1)]: Done  46 tasks      | elapsed:    0.1s\n",
      "[Parallel(n_jobs=-1)]: Done 196 tasks      | elapsed:    0.5s\n",
      "[Parallel(n_jobs=-1)]: Done 200 out of 200 | elapsed:    0.5s finished\n",
      "[Parallel(n_jobs=2)]: Using backend ThreadingBackend with 2 concurrent workers.\n",
      "[Parallel(n_jobs=2)]: Done  46 tasks      | elapsed:    0.0s\n"
     ]
    },
    {
     "name": "stdout",
     "output_type": "stream",
     "text": [
      "Best estimator is: RandomForestClassifier(max_depth=10, n_estimators=200, n_jobs=-1,\n",
      "                       oob_score=True, verbose=1)\n",
      "Best parameters are: {'max_depth': 10, 'max_features': 'auto', 'min_samples_leaf': 1, 'min_samples_split': 2, 'n_estimators': 200, 'n_jobs': -1, 'oob_score': True, 'verbose': 1}\n",
      "Best score is: 0.6444444444444445\n",
      "0.8666666666666667\n",
      "              precision    recall  f1-score   support\n",
      "\n",
      "  Cryptowall       1.00      1.00      1.00         1\n",
      "  Megacortex       1.00      1.00      1.00         1\n",
      "        Ryuk       0.50      1.00      0.67         1\n",
      "      Samsam       0.50      1.00      0.67         1\n",
      "     bitcoin       1.00      1.00      1.00         1\n",
      "      cerber       1.00      0.50      0.67         2\n",
      " cryptojoker       0.00      0.00      0.00         1\n",
      "      crysis       1.00      1.00      1.00         3\n",
      "      dharma       1.00      1.00      1.00         1\n",
      "       locky       1.00      1.00      1.00         1\n",
      "        raas       1.00      1.00      1.00         1\n",
      "  sodinokibi       1.00      1.00      1.00         1\n",
      "\n",
      "    accuracy                           0.87        15\n",
      "   macro avg       0.83      0.88      0.83        15\n",
      "weighted avg       0.87      0.87      0.84        15\n",
      "\n"
     ]
    },
    {
     "name": "stderr",
     "output_type": "stream",
     "text": [
      "[Parallel(n_jobs=2)]: Done 196 tasks      | elapsed:    0.1s\n",
      "[Parallel(n_jobs=2)]: Done 200 out of 200 | elapsed:    0.1s finished\n",
      "/home/sonia/anaconda3/envs/ransomware_detect/lib/python3.7/site-packages/sklearn/metrics/_classification.py:1221: UndefinedMetricWarning: Precision and F-score are ill-defined and being set to 0.0 in labels with no predicted samples. Use `zero_division` parameter to control this behavior.\n",
      "  _warn_prf(average, modifier, msg_start, len(result))\n"
     ]
    }
   ],
   "source": [
    "model = RandomForestClassifier()\n",
    "from pprint import pprint\n",
    "\n",
    "np.random.seed(3)\n",
    "\n",
    "print('Parameters in use:\\n')\n",
    "pprint(model.get_params())\n",
    "\n",
    "param_dist = {\n",
    "    'max_depth': [1, 10, 11, 20, 100],\n",
    "    'max_features': ['auto', None],\n",
    "    'min_samples_leaf': [ 1, 2, 3, 4],\n",
    "    'min_samples_split': [1, 2, 3, 4],\n",
    "    'n_estimators': [100, 200, 350, 450, 500],\n",
    "    'n_jobs': [-1],\n",
    "    'oob_score': [True],\n",
    "    'verbose': [1]\n",
    "}\n",
    "\n",
    "from sklearn.model_selection import StratifiedKFold, GridSearchCV\n",
    "skf = StratifiedKFold(n_splits=3, shuffle = True)\n",
    "#clf = GridSearchCV(estimator=XGBClassifier(), param_grid=param_dist, scoring='accuracy', n_jobs=-1, pre_dispatch= None, cv=cv.split(X_train,y_train), refit=True)\n",
    "clf = GridSearchCV(RandomForestClassifier(), param_dist, n_jobs=-1, cv=skf.split(X_train,y_train), refit=True)\n",
    "\n",
    "\n",
    "clf.fit(X_train, y_train)\n",
    "\n",
    "print(\"Best estimator is: {}\".format(clf.best_estimator_))\n",
    "print(\"Best parameters are: {}\".format(clf.best_params_))\n",
    "print(\"Best score is: {}\".format(clf.best_score_))\n",
    "\n",
    "pred = clf.best_estimator_.predict(X_test)\n",
    "print(accuracy_score(y_test,pred))\n",
    "print(classification_report(y_test, pred))"
   ]
  },
  {
   "cell_type": "code",
   "execution_count": 3,
   "metadata": {},
   "outputs": [
    {
     "name": "stderr",
     "output_type": "stream",
     "text": [
      "/home/sonia/anaconda3/envs/ransomware_detect/lib/python3.7/site-packages/sklearn/model_selection/_split.py:672: UserWarning: The least populated class in y has only 2 members, which is less than n_splits=3.\n",
      "  % (min_groups, self.n_splits)), UserWarning)\n"
     ]
    },
    {
     "data": {
      "image/png": "[encoded data removed]",
      "text/plain": [
       "<Figure size 432x288 with 1 Axes>"
      ]
     },
     "metadata": {
      "needs_background": "light"
     },
     "output_type": "display_data"
    }
   ],
   "source": [
    "from sklearn.model_selection import validation_curve, GridSearchCV, RandomizedSearchCV\n",
    "import matplotlib.pyplot as plt\n",
    "\n",
    "param_range=[1, 10, 11, 20, 100]# 150, 200, 250, 300, 350, 400]\n",
    "#param_range=np.linspace(1, 1000, 1, endpoint=True)\n",
    "\n",
    "train_scores, test_scores = validation_curve(RandomForestClassifier(), X = X_train, y = y_train, param_name = 'n_estimators', param_range = param_range, cv = 3, scoring=\"accuracy\", n_jobs=-1)\n",
    "\n",
    "# Calculate mean and standard deviation for training set scores\n",
    "train_mean = np.mean(train_scores, axis=1)\n",
    "train_std = np.std(train_scores, axis=1)\n",
    "\n",
    "# Calculate mean and standard deviation for test set scores\n",
    "test_mean = np.mean(test_scores, axis=1)\n",
    "test_std = np.std(test_scores, axis=1)\n",
    "\n",
    "# Plot mean accuracy scores for training and test sets\n",
    "plt.plot(param_range, train_mean, label=\"Training score\", color=\"black\")\n",
    "plt.plot(param_range, test_mean, label=\"Cross-validation score\", color=\"dimgrey\")\n",
    "\n",
    "# Plot accurancy bands for training and test sets\n",
    "plt.fill_between(param_range, train_mean - train_std, train_mean + train_std, color=\"gray\")\n",
    "plt.fill_between(param_range, test_mean - test_std, test_mean + test_std, color=\"gainsboro\")\n",
    "\n",
    "# Create plot\n",
    "plt.title(\"Validation Curve With Random Forest\")\n",
    "plt.xlabel(\"Number Of Trees\")\n",
    "plt.ylabel(\"Accuracy Score\")\n",
    "plt.tight_layout()\n",
    "plt.legend(loc=\"best\")\n",
    "plt.show()"
   ]
  },
  {
   "cell_type": "code",
   "execution_count": 4,
   "metadata": {},
   "outputs": [
    {
     "name": "stderr",
     "output_type": "stream",
     "text": [
      "/home/sonia/anaconda3/envs/ransomware_detect/lib/python3.7/site-packages/sklearn/model_selection/_split.py:672: UserWarning: The least populated class in y has only 2 members, which is less than n_splits=3.\n",
      "  % (min_groups, self.n_splits)), UserWarning)\n"
     ]
    },
    {
     "data": {
      "image/png": "[encoded data removed]",
      "text/plain": [
       "<Figure size 432x288 with 1 Axes>"
      ]
     },
     "metadata": {
      "needs_background": "light"
     },
     "output_type": "display_data"
    }
   ],
   "source": [
    "param_range=[1, 2, 3, 4, 5, 6, 7, 8, 9, 10, 11, 12]# 150, 200, 250, 300, 350, 400]\n",
    "#param_range=np.linspace(1, 1000, 1, endpoint=True)\n",
    "\n",
    "train_scores, test_scores = validation_curve(RandomForestClassifier(), X = X_train, y = y_train, param_name = 'max_depth', param_range = param_range, cv = 3, scoring=\"accuracy\", n_jobs=-1)\n",
    "\n",
    "# Calculate mean and standard deviation for training set scores\n",
    "train_mean = np.mean(train_scores, axis=1)\n",
    "train_std = np.std(train_scores, axis=1)\n",
    "\n",
    "# Calculate mean and standard deviation for test set scores\n",
    "test_mean = np.mean(test_scores, axis=1)\n",
    "test_std = np.std(test_scores, axis=1)\n",
    "\n",
    "# Plot mean accuracy scores for training and test sets\n",
    "plt.plot(param_range, train_mean, label=\"Training score\", color=\"black\")\n",
    "plt.plot(param_range, test_mean, label=\"Cross-validation score\", color=\"dimgrey\")\n",
    "\n",
    "# Plot accurancy bands for training and test sets\n",
    "plt.fill_between(param_range, train_mean - train_std, train_mean + train_std, color=\"gray\")\n",
    "plt.fill_between(param_range, test_mean - test_std, test_mean + test_std, color=\"gainsboro\")\n",
    "\n",
    "# Create plot\n",
    "plt.title(\"Validation Curve With Random Forest\")\n",
    "plt.xlabel(\" the depth of each tree\")\n",
    "plt.ylabel(\"Accuracy Score\")\n",
    "plt.tight_layout()\n",
    "plt.legend(loc=\"best\")\n",
    "plt.show()"
   ]
  },
  {
   "cell_type": "code",
   "execution_count": 8,
   "metadata": {},
   "outputs": [
    {
     "name": "stderr",
     "output_type": "stream",
     "text": [
      "/home/sonia/anaconda3/envs/ransomware_detect/lib/python3.7/site-packages/sklearn/model_selection/_split.py:672: UserWarning: The least populated class in y has only 2 members, which is less than n_splits=3.\n",
      "  % (min_groups, self.n_splits)), UserWarning)\n"
     ]
    },
    {
     "data": {
      "image/png": "[encoded data removed]",
      "text/plain": [
       "<Figure size 432x288 with 1 Axes>"
      ]
     },
     "metadata": {
      "needs_background": "light"
     },
     "output_type": "display_data"
    }
   ],
   "source": [
    "param_range=[1, 2, 3, 4, 5, 6, 7, 8, 9, 10, 11, 12, 20]\n",
    "#param_range=np.linspace(1, 1000, 1, endpoint=True)\n",
    "\n",
    "train_scores, test_scores = validation_curve(RandomForestClassifier(), X = X_train, y = y_train, param_name = 'min_samples_split', param_range = param_range, cv = 3, scoring=\"accuracy\", n_jobs=-1)\n",
    "\n",
    "# Calculate mean and standard deviation for training set scores\n",
    "train_mean = np.mean(train_scores, axis=1)\n",
    "train_std = np.std(train_scores, axis=1)\n",
    "\n",
    "# Calculate mean and standard deviation for test set scores\n",
    "test_mean = np.mean(test_scores, axis=1)\n",
    "test_std = np.std(test_scores, axis=1)\n",
    "\n",
    "# Plot mean accuracy scores for training and test sets\n",
    "plt.plot(param_range, train_mean, label=\"Training score\", color=\"black\")\n",
    "plt.plot(param_range, test_mean, label=\"Cross-validation score\", color=\"dimgrey\")\n",
    "\n",
    "# Plot accurancy bands for training and test sets\n",
    "plt.fill_between(param_range, train_mean - train_std, train_mean + train_std, color=\"gray\")\n",
    "plt.fill_between(param_range, test_mean - test_std, test_mean + test_std, color=\"gainsboro\")\n",
    "\n",
    "# Create plot\n",
    "plt.title(\"Validation Curve With Random Forest\")\n",
    "plt.xlabel(\" min_samples_split\")\n",
    "plt.ylabel(\"Accuracy Score\")\n",
    "plt.tight_layout()\n",
    "plt.legend(loc=\"best\")\n",
    "plt.show()"
   ]
  },
  {
   "cell_type": "code",
   "execution_count": 10,
   "metadata": {},
   "outputs": [
    {
     "name": "stderr",
     "output_type": "stream",
     "text": [
      "/home/sonia/anaconda3/envs/ransomware_detect/lib/python3.7/site-packages/sklearn/model_selection/_split.py:672: UserWarning: The least populated class in y has only 2 members, which is less than n_splits=3.\n",
      "  % (min_groups, self.n_splits)), UserWarning)\n"
     ]
    },
    {
     "data": {
      "image/png": "[encoded data removed]",
      "text/plain": [
       "<Figure size 432x288 with 1 Axes>"
      ]
     },
     "metadata": {
      "needs_background": "light"
     },
     "output_type": "display_data"
    }
   ],
   "source": [
    "param_range=[1, 2, 3, 4, 5, 6, 7, 8]\n",
    "#param_range=np.linspace(1, 1000, 1, endpoint=True)\n",
    "\n",
    "train_scores, test_scores = validation_curve(RandomForestClassifier(), X = X_train, y = y_train, param_name = 'min_samples_leaf', param_range = param_range, cv = 3, scoring=\"accuracy\", n_jobs=-1)\n",
    "\n",
    "# Calculate mean and standard deviation for training set scores\n",
    "train_mean = np.mean(train_scores, axis=1)\n",
    "train_std = np.std(train_scores, axis=1)\n",
    "\n",
    "# Calculate mean and standard deviation for test set scores\n",
    "test_mean = np.mean(test_scores, axis=1)\n",
    "test_std = np.std(test_scores, axis=1)\n",
    "\n",
    "# Plot mean accuracy scores for training and test sets\n",
    "plt.plot(param_range, train_mean, label=\"Training score\", color=\"black\")\n",
    "plt.plot(param_range, test_mean, label=\"Cross-validation score\", color=\"dimgrey\")\n",
    "\n",
    "# Plot accurancy bands for training and test sets\n",
    "plt.fill_between(param_range, train_mean - train_std, train_mean + train_std, color=\"gray\")\n",
    "plt.fill_between(param_range, test_mean - test_std, test_mean + test_std, color=\"gainsboro\")\n",
    "\n",
    "# Create plot\n",
    "plt.title(\"Validation Curve With Random Forest\")\n",
    "plt.xlabel(\" min_samples_leaf\")\n",
    "plt.ylabel(\"Accuracy Score\")\n",
    "plt.tight_layout()\n",
    "plt.legend(loc=\"best\")\n",
    "plt.show()"
   ]
  },
  {
   "cell_type": "code",
   "execution_count": 19,
   "metadata": {},
   "outputs": [
    {
     "name": "stderr",
     "output_type": "stream",
     "text": [
      "/home/sonia/anaconda3/envs/ransomware_detect/lib/python3.7/site-packages/sklearn/model_selection/_split.py:672: UserWarning: The least populated class in y has only 2 members, which is less than n_splits=3.\n",
      "  % (min_groups, self.n_splits)), UserWarning)\n"
     ]
    },
    {
     "data": {
      "image/png": "[encoded data removed]",
      "text/plain": [
       "<Figure size 432x288 with 1 Axes>"
      ]
     },
     "metadata": {
      "needs_background": "light"
     },
     "output_type": "display_data"
    }
   ],
   "source": [
    "#max_features = list(range(1,df.shape[1]))\n",
    "#param_range=[0.010, 0.020, 0.030, 0.040, 0.050, 0.060, 0.070, 0.080, 0.090, 0.100, 0.110, 0.120, 0.130]\n",
    "param_range=[10, 20, 30, 40, 50, 60, 70, 80, 90, 100, 110, 120, 130]\n",
    "#param_range=np.linspace(1, 1000, 1, endpoint=True)\n",
    "\n",
    "train_scores, test_scores = validation_curve(RandomForestClassifier(), X = X_train, y = y_train, param_name = 'max_features', param_range = param_range, cv = 3, scoring=\"accuracy\", n_jobs=-1)\n",
    "\n",
    "# Calculate mean and standard deviation for training set scores\n",
    "train_mean = np.mean(train_scores, axis=1)\n",
    "train_std = np.std(train_scores, axis=1)\n",
    "\n",
    "# Calculate mean and standard deviation for test set scores\n",
    "test_mean = np.mean(test_scores, axis=1)\n",
    "test_std = np.std(test_scores, axis=1)\n",
    "\n",
    "# Plot mean accuracy scores for training and test sets\n",
    "plt.plot(param_range, train_mean, label=\"Training score\", color=\"black\")\n",
    "plt.plot(param_range, test_mean, label=\"Cross-validation score\", color=\"dimgrey\")\n",
    "\n",
    "# Plot accurancy bands for training and test sets\n",
    "plt.fill_between(param_range, train_mean - train_std, train_mean + train_std, color=\"gray\")\n",
    "plt.fill_between(param_range, test_mean - test_std, test_mean + test_std, color=\"gainsboro\")\n",
    "\n",
    "# Create plot\n",
    "plt.title(\"Validation Curve With Random Forest\")\n",
    "plt.xlabel(\" max_features\")\n",
    "plt.ylabel(\"Accuracy Score\")\n",
    "plt.tight_layout()\n",
    "plt.legend(loc=\"best\")\n",
    "plt.show()\n"
   ]
  },
  {
   "cell_type": "code",
   "execution_count": 21,
   "metadata": {},
   "outputs": [
    {
     "name": "stdout",
     "output_type": "stream",
     "text": [
      "Parameters in use:\n",
      "\n",
      "{'bootstrap': True,\n",
      " 'ccp_alpha': 0.0,\n",
      " 'class_weight': None,\n",
      " 'criterion': 'gini',\n",
      " 'max_depth': None,\n",
      " 'max_features': 'auto',\n",
      " 'max_leaf_nodes': None,\n",
      " 'max_samples': None,\n",
      " 'min_impurity_decrease': 0.0,\n",
      " 'min_impurity_split': None,\n",
      " 'min_samples_leaf': 1,\n",
      " 'min_samples_split': 2,\n",
      " 'min_weight_fraction_leaf': 0.0,\n",
      " 'n_estimators': 100,\n",
      " 'n_jobs': None,\n",
      " 'oob_score': False,\n",
      " 'random_state': None,\n",
      " 'verbose': 0,\n",
      " 'warm_start': False}\n"
     ]
    },
    {
     "name": "stderr",
     "output_type": "stream",
     "text": [
      "/home/sonia/anaconda3/envs/ransomware_detect/lib/python3.7/site-packages/sklearn/model_selection/_split.py:672: UserWarning: The least populated class in y has only 2 members, which is less than n_splits=3.\n",
      "  % (min_groups, self.n_splits)), UserWarning)\n",
      "[Parallel(n_jobs=-1)]: Using backend ThreadingBackend with 2 concurrent workers.\n",
      "[Parallel(n_jobs=-1)]: Done  20 out of  20 | elapsed:    0.1s finished\n",
      "[Parallel(n_jobs=2)]: Using backend ThreadingBackend with 2 concurrent workers.\n",
      "[Parallel(n_jobs=2)]: Done  20 out of  20 | elapsed:    0.0s finished\n"
     ]
    },
    {
     "name": "stdout",
     "output_type": "stream",
     "text": [
      "Best estimator is: RandomForestClassifier(max_depth=7, min_samples_split=3, n_estimators=20,\n",
      "                       n_jobs=-1, oob_score=True, verbose=1)\n",
      "Best parameters are: {'max_depth': 7, 'max_features': 'auto', 'min_samples_leaf': 1, 'min_samples_split': 3, 'n_estimators': 20, 'n_jobs': -1, 'oob_score': True, 'verbose': 1}\n",
      "Best score is: 0.6666666666666666\n",
      "0.8\n",
      "              precision    recall  f1-score   support\n",
      "\n",
      "  Cryptowall       0.50      1.00      0.67         1\n",
      "  Megacortex       1.00      1.00      1.00         1\n",
      "        Ryuk       0.50      1.00      0.67         1\n",
      "      Samsam       1.00      1.00      1.00         1\n",
      "     bitcoin       1.00      1.00      1.00         1\n",
      "      cerber       1.00      0.50      0.67         2\n",
      " cryptojoker       1.00      1.00      1.00         1\n",
      "      crysis       1.00      0.33      0.50         3\n",
      "      dharma       0.50      1.00      0.67         1\n",
      "       locky       1.00      1.00      1.00         1\n",
      "        raas       1.00      1.00      1.00         1\n",
      "  sodinokibi       1.00      1.00      1.00         1\n",
      "\n",
      "    accuracy                           0.80        15\n",
      "   macro avg       0.88      0.90      0.85        15\n",
      "weighted avg       0.90      0.80      0.79        15\n",
      "\n"
     ]
    }
   ],
   "source": [
    "model = RandomForestClassifier()\n",
    "from pprint import pprint\n",
    "\n",
    "np.random.seed(3)\n",
    "\n",
    "print('Parameters in use:\\n')\n",
    "pprint(model.get_params())\n",
    "\n",
    "param_dist = {\n",
    "    'max_depth': [1, 2, 3, 4, 5, 6, 7, 8, 9, 10, 11, 12],\n",
    "    'max_features': ['auto', None],\n",
    "    'min_samples_leaf': [ 1, 2, 3, 4],\n",
    "    'min_samples_split': [1, 2, 3, 4],\n",
    "    'n_estimators': [1, 10, 11, 20, 100],\n",
    "    'n_jobs': [-1],\n",
    "    'oob_score': [True],\n",
    "    'verbose': [1]\n",
    "}\n",
    "\n",
    "from sklearn.model_selection import StratifiedKFold, GridSearchCV\n",
    "skf = StratifiedKFold(n_splits=3, shuffle = True)\n",
    "#clf = GridSearchCV(estimator=XGBClassifier(), param_grid=param_dist, scoring='accuracy', n_jobs=-1, pre_dispatch= None, cv=cv.split(X_train,y_train), refit=True)\n",
    "clf = GridSearchCV(RandomForestClassifier(), param_dist, n_jobs=-1, cv=skf.split(X_train,y_train), refit=True)\n",
    "\n",
    "\n",
    "clf.fit(X_train, y_train)\n",
    "\n",
    "print(\"Best estimator is: {}\".format(clf.best_estimator_))\n",
    "print(\"Best parameters are: {}\".format(clf.best_params_))\n",
    "print(\"Best score is: {}\".format(clf.best_score_))\n",
    "\n",
    "pred = clf.best_estimator_.predict(X_test)\n",
    "print(accuracy_score(y_test,pred))\n",
    "print(classification_report(y_test, pred))"
   ]
  },
  {
   "cell_type": "code",
   "execution_count": 1,
   "metadata": {},
   "outputs": [
    {
     "ename": "SyntaxError",
     "evalue": "invalid syntax (<ipython-input-1-2849fe4810d7>, line 1)",
     "output_type": "error",
     "traceback": [
      "\u001b[0;36m  File \u001b[0;32m\"<ipython-input-1-2849fe4810d7>\"\u001b[0;36m, line \u001b[0;32m1\u001b[0m\n\u001b[0;31m    Best estimator is: RandomForestClassifier(max_depth=10, n_estimators=200, n_jobs=-1,\u001b[0m\n\u001b[0m                 ^\u001b[0m\n\u001b[0;31mSyntaxError\u001b[0m\u001b[0;31m:\u001b[0m invalid syntax\n"
     ]
    }
   ],
   "source": [
    "Best estimator is: RandomForestClassifier(max_depth=10, n_estimators=200, n_jobs=-1,\n",
    "                       oob_score=True, verbose=1)\n",
    "Best parameters are: {'max_depth': 10, 'max_features': 'auto', 'min_samples_leaf': 1, 'min_samples_split': 2, 'n_estimators': 200, 'n_jobs': -1, 'oob_score': True, 'verbose': 1}\n",
    "Best score is: 0.6444444444444445\n",
    "0.8666666666666667\n",
    "\n",
    "\n",
    "Best estimator is: RandomForestClassifier(max_depth=7, min_samples_split=3, n_estimators=20,\n",
    "                       n_jobs=-1, oob_score=True, verbose=1)\n",
    "Best parameters are: {'max_depth': 7, 'max_features': 'auto', 'min_samples_leaf': 1, 'min_samples_split': 3, 'n_estimators': 20, 'n_jobs': -1, 'oob_score': True, 'verbose': 1}\n",
    "Best score is: 0.6666666666666666\n",
    "0.8"
   ]
  },
  {
   "cell_type": "code",
   "execution_count": 3,
   "metadata": {},
   "outputs": [
    {
     "name": "stdout",
     "output_type": "stream",
     "text": [
      "Parameters in use:\n",
      "\n",
      "{'bootstrap': True,\n",
      " 'ccp_alpha': 0.0,\n",
      " 'class_weight': None,\n",
      " 'criterion': 'gini',\n",
      " 'max_depth': None,\n",
      " 'max_features': 'auto',\n",
      " 'max_leaf_nodes': None,\n",
      " 'max_samples': None,\n",
      " 'min_impurity_decrease': 0.0,\n",
      " 'min_impurity_split': None,\n",
      " 'min_samples_leaf': 1,\n",
      " 'min_samples_split': 2,\n",
      " 'min_weight_fraction_leaf': 0.0,\n",
      " 'n_estimators': 100,\n",
      " 'n_jobs': None,\n",
      " 'oob_score': False,\n",
      " 'random_state': None,\n",
      " 'verbose': 0,\n",
      " 'warm_start': False}\n"
     ]
    },
    {
     "name": "stderr",
     "output_type": "stream",
     "text": [
      "/home/sonia/anaconda3/envs/ransomware_detect/lib/python3.7/site-packages/sklearn/model_selection/_split.py:672: UserWarning: The least populated class in y has only 2 members, which is less than n_splits=3.\n",
      "  % (min_groups, self.n_splits)), UserWarning)\n",
      "[Parallel(n_jobs=-1)]: Using backend ThreadingBackend with 2 concurrent workers.\n",
      "[Parallel(n_jobs=-1)]: Done  46 tasks      | elapsed:    0.1s\n",
      "[Parallel(n_jobs=-1)]: Done 196 tasks      | elapsed:    0.4s\n",
      "[Parallel(n_jobs=-1)]: Done 350 out of 350 | elapsed:    0.8s finished\n"
     ]
    },
    {
     "name": "stdout",
     "output_type": "stream",
     "text": [
      "Best estimator is: RandomForestClassifier(max_depth=6, n_estimators=350, n_jobs=-1, oob_score=True,\n",
      "                       verbose=1)\n",
      "Best parameters are: {'max_depth': 6, 'max_features': 'auto', 'min_samples_leaf': 1, 'min_samples_split': 2, 'n_estimators': 350, 'n_jobs': -1, 'oob_score': True, 'verbose': 1}\n",
      "Best score is: 0.6444444444444445\n",
      "0.8666666666666667\n",
      "              precision    recall  f1-score   support\n",
      "\n",
      "  Cryptowall       1.00      1.00      1.00         1\n",
      "  Megacortex       1.00      1.00      1.00         1\n",
      "        Ryuk       0.50      1.00      0.67         1\n",
      "      Samsam       0.50      1.00      0.67         1\n",
      "     bitcoin       1.00      1.00      1.00         1\n",
      "      cerber       1.00      0.50      0.67         2\n",
      " cryptojoker       0.00      0.00      0.00         1\n",
      "      crysis       1.00      1.00      1.00         3\n",
      "      dharma       1.00      1.00      1.00         1\n",
      "       locky       1.00      1.00      1.00         1\n",
      "        raas       1.00      1.00      1.00         1\n",
      "  sodinokibi       1.00      1.00      1.00         1\n",
      "\n",
      "    accuracy                           0.87        15\n",
      "   macro avg       0.83      0.88      0.83        15\n",
      "weighted avg       0.87      0.87      0.84        15\n",
      "\n"
     ]
    },
    {
     "name": "stderr",
     "output_type": "stream",
     "text": [
      "[Parallel(n_jobs=2)]: Using backend ThreadingBackend with 2 concurrent workers.\n",
      "[Parallel(n_jobs=2)]: Done  46 tasks      | elapsed:    0.0s\n",
      "[Parallel(n_jobs=2)]: Done 196 tasks      | elapsed:    0.0s\n",
      "[Parallel(n_jobs=2)]: Done 350 out of 350 | elapsed:    0.1s finished\n",
      "/home/sonia/anaconda3/envs/ransomware_detect/lib/python3.7/site-packages/sklearn/metrics/_classification.py:1221: UndefinedMetricWarning: Precision and F-score are ill-defined and being set to 0.0 in labels with no predicted samples. Use `zero_division` parameter to control this behavior.\n",
      "  _warn_prf(average, modifier, msg_start, len(result))\n"
     ]
    }
   ],
   "source": [
    "model = RandomForestClassifier()\n",
    "from pprint import pprint\n",
    "\n",
    "np.random.seed(3)\n",
    "\n",
    "print('Parameters in use:\\n')\n",
    "pprint(model.get_params())\n",
    "\n",
    "param_dist = {\n",
    "    'max_depth': [1, 2, 3, 4, 5, 6, 7, 8, 9, 10, 11, 12],\n",
    "    'max_features': ['auto', None],\n",
    "    'min_samples_leaf': [ 1, 2, 3, 4],\n",
    "    'min_samples_split': [1, 2, 3, 4],\n",
    "    'n_estimators': [100, 200, 350, 450, 500],\n",
    "    'n_jobs': [-1],\n",
    "    'oob_score': [True],\n",
    "    'verbose': [1]\n",
    "}\n",
    "from sklearn.model_selection import StratifiedKFold, GridSearchCV\n",
    "skf = StratifiedKFold(n_splits=3, shuffle = True)\n",
    "#clf = GridSearchCV(estimator=XGBClassifier(), param_grid=param_dist, scoring='accuracy', n_jobs=-1, pre_dispatch= None, cv=cv.split(X_train,y_train), refit=True)\n",
    "clf = GridSearchCV(RandomForestClassifier(), param_dist, n_jobs=-1, cv=skf.split(X_train,y_train), refit=True)\n",
    "\n",
    "\n",
    "clf.fit(X_train, y_train)\n",
    "\n",
    "print(\"Best estimator is: {}\".format(clf.best_estimator_))\n",
    "print(\"Best parameters are: {}\".format(clf.best_params_))\n",
    "print(\"Best score is: {}\".format(clf.best_score_))\n",
    "\n",
    "pred = clf.best_estimator_.predict(X_test)\n",
    "print(accuracy_score(y_test,pred))\n",
    "print(classification_report(y_test, pred))"
   ]
  },
  {
   "cell_type": "code",
   "execution_count": 4,
   "metadata": {},
   "outputs": [
    {
     "ename": "SyntaxError",
     "evalue": "invalid syntax (<ipython-input-4-10db3a18ddee>, line 1)",
     "output_type": "error",
     "traceback": [
      "\u001b[0;36m  File \u001b[0;32m\"<ipython-input-4-10db3a18ddee>\"\u001b[0;36m, line \u001b[0;32m1\u001b[0m\n\u001b[0;31m    Best estimator is: RandomForestClassifier(max_depth=10, n_estimators=200, n_jobs=-1,\u001b[0m\n\u001b[0m                 ^\u001b[0m\n\u001b[0;31mSyntaxError\u001b[0m\u001b[0;31m:\u001b[0m invalid syntax\n"
     ]
    }
   ],
   "source": [
    "Best estimator is: RandomForestClassifier(max_depth=10, n_estimators=200, n_jobs=-1,\n",
    "                       oob_score=True, verbose=1)\n",
    "Best parameters are: {'max_depth': 10, 'max_features': 'auto', 'min_samples_leaf': 1, 'min_samples_split': 2, 'n_estimators': 200, 'n_jobs': -1, 'oob_score': True, 'verbose': 1}\n",
    "Best score is: 0.6444444444444445\n",
    "0.8666666666666667\n",
    "\n",
    "\n",
    "Best estimator is: RandomForestClassifier(max_depth=7, min_samples_split=3, n_estimators=20,\n",
    "                       n_jobs=-1, oob_score=True, verbose=1)\n",
    "Best parameters are: {'max_depth': 7, 'max_features': 'auto', 'min_samples_leaf': 1, 'min_samples_split': 3, 'n_estimators': 20, 'n_jobs': -1, 'oob_score': True, 'verbose': 1}\n",
    "Best score is: 0.6666666666666666\n",
    "0.8\n",
    "\n",
    "\n",
    "\n",
    "Best estimator is: RandomForestClassifier(max_depth=6, n_estimators=350, n_jobs=-1, oob_score=True,\n",
    "                       verbose=1)\n",
    "Best parameters are: {'max_depth': 6, 'max_features': 'auto', 'min_samples_leaf': 1, 'min_samples_split': 2, 'n_estimators': 350, 'n_jobs': -1, 'oob_score': True, 'verbose': 1}\n",
    "Best score is: 0.6444444444444445\n",
    "0.8666666666666667\n",
    "\n",
    "\n",
    "Best estimator is: RandomForestClassifier(max_depth=7, min_samples_split=3, n_estimators=350,\n",
    "                       n_jobs=-1, oob_score=True, verbose=1)\n",
    "Best parameters are: {'max_depth': 7, 'max_features': 'auto', 'min_samples_leaf': 1, 'min_samples_split': 3, 'n_estimators': 350, 'n_jobs': -1, 'oob_score': True, 'verbose': 1}\n",
    "Best score is: 0.7111111111111111\n",
    "0.8666666666666667"
   ]
  },
  {
   "cell_type": "code",
   "execution_count": 6,
   "metadata": {},
   "outputs": [
    {
     "name": "stdout",
     "output_type": "stream",
     "text": [
      "Parameters in use:\n",
      "\n",
      "{'bootstrap': True,\n",
      " 'ccp_alpha': 0.0,\n",
      " 'class_weight': None,\n",
      " 'criterion': 'gini',\n",
      " 'max_depth': None,\n",
      " 'max_features': 'auto',\n",
      " 'max_leaf_nodes': None,\n",
      " 'max_samples': None,\n",
      " 'min_impurity_decrease': 0.0,\n",
      " 'min_impurity_split': None,\n",
      " 'min_samples_leaf': 1,\n",
      " 'min_samples_split': 2,\n",
      " 'min_weight_fraction_leaf': 0.0,\n",
      " 'n_estimators': 100,\n",
      " 'n_jobs': None,\n",
      " 'oob_score': False,\n",
      " 'random_state': None,\n",
      " 'verbose': 0,\n",
      " 'warm_start': False}\n"
     ]
    },
    {
     "name": "stderr",
     "output_type": "stream",
     "text": [
      "/home/sonia/anaconda3/envs/ransomware_detect/lib/python3.7/site-packages/sklearn/model_selection/_split.py:672: UserWarning: The least populated class in y has only 2 members, which is less than n_splits=3.\n",
      "  % (min_groups, self.n_splits)), UserWarning)\n",
      "[Parallel(n_jobs=-1)]: Using backend ThreadingBackend with 2 concurrent workers.\n",
      "[Parallel(n_jobs=-1)]: Done  46 tasks      | elapsed:    0.1s\n",
      "[Parallel(n_jobs=-1)]: Done 196 tasks      | elapsed:    0.4s\n",
      "[Parallel(n_jobs=-1)]: Done 350 out of 350 | elapsed:    0.8s finished\n"
     ]
    },
    {
     "name": "stdout",
     "output_type": "stream",
     "text": [
      "Best estimator is: RandomForestClassifier(max_depth=7, min_samples_split=3, n_estimators=350,\n",
      "                       n_jobs=-1, oob_score=True, verbose=1)\n",
      "Best parameters are: {'max_depth': 7, 'max_features': 'auto', 'min_samples_leaf': 1, 'min_samples_split': 3, 'n_estimators': 350, 'n_jobs': -1, 'oob_score': True, 'verbose': 1}\n",
      "Best score is: 0.7111111111111111\n"
     ]
    },
    {
     "name": "stderr",
     "output_type": "stream",
     "text": [
      "[Parallel(n_jobs=2)]: Using backend ThreadingBackend with 2 concurrent workers.\n",
      "[Parallel(n_jobs=2)]: Done  46 tasks      | elapsed:    0.0s\n",
      "[Parallel(n_jobs=2)]: Done 196 tasks      | elapsed:    0.1s\n",
      "[Parallel(n_jobs=2)]: Done 350 out of 350 | elapsed:    0.1s finished\n"
     ]
    },
    {
     "name": "stdout",
     "output_type": "stream",
     "text": [
      "0.8666666666666667\n",
      "              precision    recall  f1-score   support\n",
      "\n",
      "  Cryptowall       1.00      1.00      1.00         1\n",
      "  Megacortex       1.00      1.00      1.00         1\n",
      "        Ryuk       0.50      1.00      0.67         1\n",
      "      Samsam       0.50      1.00      0.67         1\n",
      "     bitcoin       1.00      1.00      1.00         1\n",
      "      cerber       1.00      0.50      0.67         2\n",
      " cryptojoker       0.00      0.00      0.00         1\n",
      "      crysis       1.00      1.00      1.00         3\n",
      "      dharma       1.00      1.00      1.00         1\n",
      "       locky       1.00      1.00      1.00         1\n",
      "        raas       1.00      1.00      1.00         1\n",
      "  sodinokibi       1.00      1.00      1.00         1\n",
      "\n",
      "    accuracy                           0.87        15\n",
      "   macro avg       0.83      0.88      0.83        15\n",
      "weighted avg       0.87      0.87      0.84        15\n",
      "\n"
     ]
    },
    {
     "name": "stderr",
     "output_type": "stream",
     "text": [
      "/home/sonia/anaconda3/envs/ransomware_detect/lib/python3.7/site-packages/sklearn/metrics/_classification.py:1221: UndefinedMetricWarning: Precision and F-score are ill-defined and being set to 0.0 in labels with no predicted samples. Use `zero_division` parameter to control this behavior.\n",
      "  _warn_prf(average, modifier, msg_start, len(result))\n"
     ]
    }
   ],
   "source": [
    "print('Parameters in use:\\n')\n",
    "pprint(model.get_params())\n",
    "\n",
    "param_dist = {\n",
    "    'max_depth': [ 6, 7, 8, 10],\n",
    "    'max_features': ['auto'],\n",
    "    'min_samples_leaf': [ 1, 2],\n",
    "    'min_samples_split': [2, 3],\n",
    "    'n_estimators': [20, 100, 200, 350],\n",
    "    'n_jobs': [-1],\n",
    "    'oob_score': [True],\n",
    "    'verbose': [1]\n",
    "}\n",
    "\n",
    "from sklearn.model_selection import StratifiedKFold, GridSearchCV\n",
    "skf = StratifiedKFold(n_splits=3, shuffle = True)\n",
    "#clf = GridSearchCV(estimator=XGBClassifier(), param_grid=param_dist, scoring='accuracy', n_jobs=-1, pre_dispatch= None, cv=cv.split(X_train,y_train), refit=True)\n",
    "clf = GridSearchCV(RandomForestClassifier(), param_dist, n_jobs=-1, cv=skf.split(X_train,y_train), refit=True)\n",
    "\n",
    "\n",
    "clf.fit(X_train, y_train)\n",
    "\n",
    "print(\"Best estimator is: {}\".format(clf.best_estimator_))\n",
    "print(\"Best parameters are: {}\".format(clf.best_params_))\n",
    "print(\"Best score is: {}\".format(clf.best_score_))\n",
    "\n",
    "pred = clf.best_estimator_.predict(X_test)\n",
    "print(accuracy_score(y_test,pred))\n",
    "print(classification_report(y_test, pred))"
   ]
  },
  {
   "cell_type": "code",
   "execution_count": null,
   "metadata": {},
   "outputs": [],
   "source": []
  }
 ],
 "metadata": {
  "kernelspec": {
   "display_name": "Python 3",
   "language": "python",
   "name": "python3"
  },
  "language_info": {
   "codemirror_mode": {
    "name": "ipython",
    "version": 3
   },
   "file_extension": ".py",
   "mimetype": "text/x-python",
   "name": "python",
   "nbconvert_exporter": "python",
   "pygments_lexer": "ipython3",
   "version": "3.7.7"
  }
 },
 "nbformat": 4,
 "nbformat_minor": 4
}
